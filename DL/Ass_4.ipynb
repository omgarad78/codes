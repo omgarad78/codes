{
 "cells": [
  {
   "cell_type": "code",
   "execution_count": 1,
   "metadata": {
    "executionInfo": {
     "elapsed": 1084,
     "status": "ok",
     "timestamp": 1744349070996,
     "user": {
      "displayName": "Anushree Kolte",
      "userId": "01713710611162199633"
     },
     "user_tz": -330
    },
    "id": "gEoxfVBsQRpj"
   },
   "outputs": [
    {
     "name": "stdout",
     "output_type": "stream",
     "text": [
      "WARNING:tensorflow:From C:\\Users\\hp\\AppData\\Local\\Packages\\PythonSoftwareFoundation.Python.3.10_qbz5n2kfra8p0\\LocalCache\\local-packages\\Python310\\site-packages\\keras\\src\\losses.py:2976: The name tf.losses.sparse_softmax_cross_entropy is deprecated. Please use tf.compat.v1.losses.sparse_softmax_cross_entropy instead.\n",
      "\n"
     ]
    }
   ],
   "source": [
    "import tensorflow as tf\n",
    "from tensorflow import keras\n",
    "from tensorflow.keras import layers\n",
    "from tensorflow.keras.models import Sequential\n",
    "from tensorflow.keras.layers import LSTM, Dense, Dropout\n",
    "from sklearn.preprocessing import MinMaxScaler\n",
    "import pandas as pd\n",
    "import numpy as np\n",
    "import matplotlib.pyplot as plt"
   ]
  },
  {
   "cell_type": "code",
   "execution_count": 4,
   "metadata": {
    "executionInfo": {
     "elapsed": 11,
     "status": "ok",
     "timestamp": 1744348498822,
     "user": {
      "displayName": "Anushree Kolte",
      "userId": "01713710611162199633"
     },
     "user_tz": -330
    },
    "id": "dA_IO9btRTsu"
   },
   "outputs": [],
   "source": [
    "# Load Google stock price dataset\n",
    "data = pd.read_csv('Google_Stock_Price_Train.csv')"
   ]
  },
  {
   "cell_type": "code",
   "execution_count": 5,
   "metadata": {
    "colab": {
     "base_uri": "https://localhost:8080/",
     "height": 0
    },
    "executionInfo": {
     "elapsed": 25,
     "status": "ok",
     "timestamp": 1744348576739,
     "user": {
      "displayName": "Anushree Kolte",
      "userId": "01713710611162199633"
     },
     "user_tz": -330
    },
    "id": "W0bimfByRTq6",
    "outputId": "3dfeca35-61cd-48e7-dfe9-d13fabe94640"
   },
   "outputs": [],
   "source": [
    "# Assume 'Close' is the target column for prediction\n",
    "data = data[[\"Close\"]]\n",
    "data.dropna(inplace=True)"
   ]
  },
  {
   "cell_type": "code",
   "execution_count": 6,
   "metadata": {
    "executionInfo": {
     "elapsed": 1927,
     "status": "ok",
     "timestamp": 1744348628163,
     "user": {
      "displayName": "Anushree Kolte",
      "userId": "01713710611162199633"
     },
     "user_tz": -330
    },
    "id": "QX4tKYdJRTn9"
   },
   "outputs": [],
   "source": [
    "# Normalize the data\n",
    "scaler = MinMaxScaler(feature_range=(0, 1))\n",
    "data_scaled = scaler.fit_transform(data)"
   ]
  },
  {
   "cell_type": "code",
   "execution_count": 7,
   "metadata": {
    "executionInfo": {
     "elapsed": 4,
     "status": "ok",
     "timestamp": 1744348686323,
     "user": {
      "displayName": "Anushree Kolte",
      "userId": "01713710611162199633"
     },
     "user_tz": -330
    },
    "id": "X3WCAZboRTmP"
   },
   "outputs": [],
   "source": [
    "# Create sequences for time series prediction\n",
    "def create_sequences(data, sequence_length):\n",
    "    X, Y = [], []\n",
    "    for i in range(sequence_length, len(data)):\n",
    "        X.append(data[i-sequence_length:i, 0])\n",
    "        Y.append(data[i, 0])\n",
    "    return np.array(X), np.array(Y)"
   ]
  },
  {
   "cell_type": "code",
   "execution_count": 8,
   "metadata": {
    "executionInfo": {
     "elapsed": 6,
     "status": "ok",
     "timestamp": 1744348703878,
     "user": {
      "displayName": "Anushree Kolte",
      "userId": "01713710611162199633"
     },
     "user_tz": -330
    },
    "id": "nWb4zR84RTkZ"
   },
   "outputs": [],
   "source": [
    "sequence_length = 60\n",
    "X, Y = create_sequences(data_scaled, sequence_length)"
   ]
  },
  {
   "cell_type": "code",
   "execution_count": 9,
   "metadata": {
    "executionInfo": {
     "elapsed": 1826,
     "status": "ok",
     "timestamp": 1744348722988,
     "user": {
      "displayName": "Anushree Kolte",
      "userId": "01713710611162199633"
     },
     "user_tz": -330
    },
    "id": "dT5jAXatRTfd"
   },
   "outputs": [],
   "source": [
    "# Reshape input to be 3D for RNN [samples, time steps, features]\n",
    "X = np.reshape(X, (X.shape[0], X.shape[1], 1))"
   ]
  },
  {
   "cell_type": "code",
   "execution_count": 10,
   "metadata": {
    "executionInfo": {
     "elapsed": 721,
     "status": "ok",
     "timestamp": 1744348756421,
     "user": {
      "displayName": "Anushree Kolte",
      "userId": "01713710611162199633"
     },
     "user_tz": -330
    },
    "id": "vODwysyySWW3"
   },
   "outputs": [],
   "source": [
    "# Split into training and test sets\n",
    "split = int(0.8 * len(X))\n",
    "X_train, X_test = X[:split], X[split:]\n",
    "Y_train, Y_test = Y[:split], Y[split:]"
   ]
  },
  {
   "cell_type": "code",
   "execution_count": 11,
   "metadata": {
    "colab": {
     "base_uri": "https://localhost:8080/",
     "height": 0
    },
    "executionInfo": {
     "elapsed": 484,
     "status": "ok",
     "timestamp": 1744349454770,
     "user": {
      "displayName": "Anushree Kolte",
      "userId": "01713710611162199633"
     },
     "user_tz": -330
    },
    "id": "HeUcljrTSWTb",
    "outputId": "5546aabf-2304-4b82-c12d-4e2cebd9d374"
   },
   "outputs": [
    {
     "name": "stdout",
     "output_type": "stream",
     "text": [
      "WARNING:tensorflow:From C:\\Users\\hp\\AppData\\Local\\Packages\\PythonSoftwareFoundation.Python.3.10_qbz5n2kfra8p0\\LocalCache\\local-packages\\Python310\\site-packages\\keras\\src\\layers\\rnn\\simple_rnn.py:130: The name tf.executing_eagerly_outside_functions is deprecated. Please use tf.compat.v1.executing_eagerly_outside_functions instead.\n",
      "\n"
     ]
    }
   ],
   "source": [
    "# Build RNN model\n",
    "model = keras.Sequential([\n",
    "    layers.SimpleRNN(50, return_sequences=True, input_shape=(X_train.shape[1], 1)),\n",
    "    layers.SimpleRNN(50),\n",
    "    layers.Dense(1)\n",
    "])"
   ]
  },
  {
   "cell_type": "code",
   "execution_count": 12,
   "metadata": {
    "executionInfo": {
     "elapsed": 7,
     "status": "ok",
     "timestamp": 1744349457666,
     "user": {
      "displayName": "Anushree Kolte",
      "userId": "01713710611162199633"
     },
     "user_tz": -330
    },
    "id": "IASp9XBJSWQw"
   },
   "outputs": [
    {
     "name": "stdout",
     "output_type": "stream",
     "text": [
      "WARNING:tensorflow:From C:\\Users\\hp\\AppData\\Local\\Packages\\PythonSoftwareFoundation.Python.3.10_qbz5n2kfra8p0\\LocalCache\\local-packages\\Python310\\site-packages\\keras\\src\\optimizers\\__init__.py:309: The name tf.train.Optimizer is deprecated. Please use tf.compat.v1.train.Optimizer instead.\n",
      "\n"
     ]
    }
   ],
   "source": [
    "# Compile model\n",
    "model.compile(optimizer='adam', loss='mean_squared_error')"
   ]
  },
  {
   "cell_type": "code",
   "execution_count": 13,
   "metadata": {
    "colab": {
     "base_uri": "https://localhost:8080/",
     "height": 0
    },
    "executionInfo": {
     "elapsed": 63416,
     "status": "ok",
     "timestamp": 1744349523347,
     "user": {
      "displayName": "Anushree Kolte",
      "userId": "01713710611162199633"
     },
     "user_tz": -330
    },
    "id": "ANscUUszSvPh",
    "outputId": "fa70074f-355c-4b3d-b0a0-0bfad3cac153"
   },
   "outputs": [
    {
     "name": "stdout",
     "output_type": "stream",
     "text": [
      "Epoch 1/50\n",
      "WARNING:tensorflow:From C:\\Users\\hp\\AppData\\Local\\Packages\\PythonSoftwareFoundation.Python.3.10_qbz5n2kfra8p0\\LocalCache\\local-packages\\Python310\\site-packages\\keras\\src\\utils\\tf_utils.py:492: The name tf.ragged.RaggedTensorValue is deprecated. Please use tf.compat.v1.ragged.RaggedTensorValue instead.\n",
      "\n",
      "30/30 [==============================] - 6s 64ms/step - loss: 0.0199 - val_loss: 0.0033\n",
      "Epoch 2/50\n",
      "30/30 [==============================] - 1s 30ms/step - loss: 5.7652e-04 - val_loss: 0.0018\n",
      "Epoch 3/50\n",
      "30/30 [==============================] - 1s 32ms/step - loss: 5.2113e-04 - val_loss: 8.0269e-04\n",
      "Epoch 4/50\n",
      "30/30 [==============================] - 1s 32ms/step - loss: 4.2191e-04 - val_loss: 0.0022\n",
      "Epoch 5/50\n",
      "30/30 [==============================] - 1s 31ms/step - loss: 5.3603e-04 - val_loss: 5.4843e-04\n",
      "Epoch 6/50\n",
      "30/30 [==============================] - 1s 30ms/step - loss: 4.2257e-04 - val_loss: 0.0017\n",
      "Epoch 7/50\n",
      "30/30 [==============================] - 1s 34ms/step - loss: 4.0389e-04 - val_loss: 0.0023\n",
      "Epoch 8/50\n",
      "30/30 [==============================] - 1s 30ms/step - loss: 9.6783e-04 - val_loss: 7.5901e-04\n",
      "Epoch 9/50\n",
      "30/30 [==============================] - 1s 32ms/step - loss: 4.5564e-04 - val_loss: 3.2442e-04\n",
      "Epoch 10/50\n",
      "30/30 [==============================] - 1s 30ms/step - loss: 3.3794e-04 - val_loss: 0.0014\n",
      "Epoch 11/50\n",
      "30/30 [==============================] - 1s 30ms/step - loss: 3.4239e-04 - val_loss: 4.0737e-04\n",
      "Epoch 12/50\n",
      "30/30 [==============================] - 1s 29ms/step - loss: 3.1783e-04 - val_loss: 7.9122e-04\n",
      "Epoch 13/50\n",
      "30/30 [==============================] - 1s 30ms/step - loss: 2.8355e-04 - val_loss: 5.2122e-04\n",
      "Epoch 14/50\n",
      "30/30 [==============================] - 1s 30ms/step - loss: 2.6553e-04 - val_loss: 3.5732e-04\n",
      "Epoch 15/50\n",
      "30/30 [==============================] - 1s 28ms/step - loss: 3.5630e-04 - val_loss: 2.9957e-04\n",
      "Epoch 16/50\n",
      "30/30 [==============================] - 1s 26ms/step - loss: 2.5650e-04 - val_loss: 2.1103e-04\n",
      "Epoch 17/50\n",
      "30/30 [==============================] - 1s 29ms/step - loss: 2.9058e-04 - val_loss: 5.7551e-04\n",
      "Epoch 18/50\n",
      "30/30 [==============================] - 1s 31ms/step - loss: 3.5734e-04 - val_loss: 1.9377e-04\n",
      "Epoch 19/50\n",
      "30/30 [==============================] - 1s 30ms/step - loss: 2.6521e-04 - val_loss: 2.1436e-04\n",
      "Epoch 20/50\n",
      "30/30 [==============================] - 1s 31ms/step - loss: 2.7106e-04 - val_loss: 4.6293e-04\n",
      "Epoch 21/50\n",
      "30/30 [==============================] - 1s 31ms/step - loss: 2.1113e-04 - val_loss: 1.6797e-04\n",
      "Epoch 22/50\n",
      "30/30 [==============================] - 1s 30ms/step - loss: 2.1977e-04 - val_loss: 2.2563e-04\n",
      "Epoch 23/50\n",
      "30/30 [==============================] - 1s 31ms/step - loss: 2.1420e-04 - val_loss: 2.0162e-04\n",
      "Epoch 24/50\n",
      "30/30 [==============================] - 1s 31ms/step - loss: 1.9223e-04 - val_loss: 2.0929e-04\n",
      "Epoch 25/50\n",
      "30/30 [==============================] - 1s 31ms/step - loss: 2.5266e-04 - val_loss: 1.4988e-04\n",
      "Epoch 26/50\n",
      "30/30 [==============================] - 1s 30ms/step - loss: 1.9051e-04 - val_loss: 2.1864e-04\n",
      "Epoch 27/50\n",
      "30/30 [==============================] - 1s 30ms/step - loss: 2.3915e-04 - val_loss: 1.5484e-04\n",
      "Epoch 28/50\n",
      "30/30 [==============================] - 1s 30ms/step - loss: 1.8804e-04 - val_loss: 2.3478e-04\n",
      "Epoch 29/50\n",
      "30/30 [==============================] - 1s 31ms/step - loss: 3.7444e-04 - val_loss: 1.4642e-04\n",
      "Epoch 30/50\n",
      "30/30 [==============================] - 1s 29ms/step - loss: 2.6915e-04 - val_loss: 1.5312e-04\n",
      "Epoch 31/50\n",
      "30/30 [==============================] - 1s 30ms/step - loss: 2.6170e-04 - val_loss: 0.0013\n",
      "Epoch 32/50\n",
      "30/30 [==============================] - 1s 29ms/step - loss: 4.4454e-04 - val_loss: 9.1430e-04\n",
      "Epoch 33/50\n",
      "30/30 [==============================] - 1s 30ms/step - loss: 3.1195e-04 - val_loss: 1.3122e-04\n",
      "Epoch 34/50\n",
      "30/30 [==============================] - 1s 28ms/step - loss: 1.9418e-04 - val_loss: 2.9098e-04\n",
      "Epoch 35/50\n",
      "30/30 [==============================] - 1s 26ms/step - loss: 2.2127e-04 - val_loss: 1.9475e-04\n",
      "Epoch 36/50\n",
      "30/30 [==============================] - 1s 26ms/step - loss: 2.2216e-04 - val_loss: 3.8117e-04\n",
      "Epoch 37/50\n",
      "30/30 [==============================] - 1s 22ms/step - loss: 1.9702e-04 - val_loss: 1.3192e-04\n",
      "Epoch 38/50\n",
      "30/30 [==============================] - 1s 20ms/step - loss: 1.8635e-04 - val_loss: 1.3156e-04\n",
      "Epoch 39/50\n",
      "30/30 [==============================] - 1s 19ms/step - loss: 1.8041e-04 - val_loss: 1.7025e-04\n",
      "Epoch 40/50\n",
      "30/30 [==============================] - 1s 23ms/step - loss: 2.0701e-04 - val_loss: 1.5520e-04\n",
      "Epoch 41/50\n",
      "30/30 [==============================] - 1s 27ms/step - loss: 2.3568e-04 - val_loss: 0.0010\n",
      "Epoch 42/50\n",
      "30/30 [==============================] - 1s 25ms/step - loss: 4.6705e-04 - val_loss: 1.5235e-04\n",
      "Epoch 43/50\n",
      "30/30 [==============================] - 1s 22ms/step - loss: 2.7818e-04 - val_loss: 1.3300e-04\n",
      "Epoch 44/50\n",
      "30/30 [==============================] - 1s 19ms/step - loss: 1.5458e-04 - val_loss: 3.4237e-04\n",
      "Epoch 45/50\n",
      "30/30 [==============================] - 1s 21ms/step - loss: 2.3126e-04 - val_loss: 1.1605e-04\n",
      "Epoch 46/50\n",
      "30/30 [==============================] - 1s 20ms/step - loss: 2.1858e-04 - val_loss: 1.3833e-04\n",
      "Epoch 47/50\n",
      "30/30 [==============================] - 1s 19ms/step - loss: 3.8059e-04 - val_loss: 9.1694e-04\n",
      "Epoch 48/50\n",
      "30/30 [==============================] - 1s 22ms/step - loss: 3.5675e-04 - val_loss: 2.4383e-04\n",
      "Epoch 49/50\n",
      "30/30 [==============================] - 1s 22ms/step - loss: 1.5794e-04 - val_loss: 2.1090e-04\n",
      "Epoch 50/50\n",
      "30/30 [==============================] - 1s 22ms/step - loss: 1.7635e-04 - val_loss: 2.2308e-04\n"
     ]
    }
   ],
   "source": [
    "# Train model\n",
    "history = model.fit(X_train, Y_train, epochs=50, batch_size=32, validation_split=0.1, verbose=1)"
   ]
  },
  {
   "cell_type": "code",
   "execution_count": 14,
   "metadata": {
    "colab": {
     "base_uri": "https://localhost:8080/",
     "height": 0
    },
    "executionInfo": {
     "elapsed": 16,
     "status": "ok",
     "timestamp": 1744349579428,
     "user": {
      "displayName": "Anushree Kolte",
      "userId": "01713710611162199633"
     },
     "user_tz": -330
    },
    "id": "_elgA6fwSu4q",
    "outputId": "6940f125-19db-4e8f-ae7b-5840905e9cf7"
   },
   "outputs": [
    {
     "name": "stdout",
     "output_type": "stream",
     "text": [
      "9/9 [==============================] - 0s 8ms/step - loss: 6.8643e-04\n",
      "Test Loss: 0.0007\n"
     ]
    }
   ],
   "source": [
    "# Evaluate model\n",
    "loss = model.evaluate(X_test, Y_test)\n",
    "print(f\"Test Loss: {loss:.4f}\")"
   ]
  },
  {
   "cell_type": "code",
   "execution_count": 15,
   "metadata": {
    "colab": {
     "base_uri": "https://localhost:8080/",
     "height": 0
    },
    "executionInfo": {
     "elapsed": 15,
     "status": "ok",
     "timestamp": 1744349588915,
     "user": {
      "displayName": "Anushree Kolte",
      "userId": "01713710611162199633"
     },
     "user_tz": -330
    },
    "id": "UySkwwN-Su1-",
    "outputId": "20abdcaf-e480-4f3d-998c-9eb3d10df39d"
   },
   "outputs": [
    {
     "name": "stdout",
     "output_type": "stream",
     "text": [
      "9/9 [==============================] - 0s 7ms/step\n"
     ]
    }
   ],
   "source": [
    "# Predict\n",
    "predicted_stock_price = model.predict(X_test)"
   ]
  },
  {
   "cell_type": "code",
   "execution_count": 16,
   "metadata": {
    "executionInfo": {
     "elapsed": 7,
     "status": "ok",
     "timestamp": 1744349593862,
     "user": {
      "displayName": "Anushree Kolte",
      "userId": "01713710611162199633"
     },
     "user_tz": -330
    },
    "id": "LABXPpEMSuyn"
   },
   "outputs": [],
   "source": [
    "# Inverse transform predictions\n",
    "predicted_stock_price = scaler.inverse_transform(predicted_stock_price.reshape(-1, 1))\n",
    "y_test_scaled = scaler.inverse_transform(Y_test.reshape(-1, 1))"
   ]
  },
  {
   "cell_type": "code",
   "execution_count": 17,
   "metadata": {
    "colab": {
     "base_uri": "https://localhost:8080/",
     "height": 564
    },
    "executionInfo": {
     "elapsed": 1389,
     "status": "ok",
     "timestamp": 1744349600125,
     "user": {
      "displayName": "Anushree Kolte",
      "userId": "01713710611162199633"
     },
     "user_tz": -330
    },
    "id": "TEwsWF8vTFB8",
    "outputId": "a7f1c1fb-6112-44d3-e0a2-ee7df8639413"
   },
   "outputs": [
    {
     "data": {
      "image/png": "[encoded data removed]",
      "text/plain": [
       "<Figure size 1000x600 with 1 Axes>"
      ]
     },
     "metadata": {},
     "output_type": "display_data"
    }
   ],
   "source": [
    "# Plot results\n",
    "plt.figure(figsize=(10, 6))\n",
    "plt.plot(y_test_scaled, color='blue', label='Actual Google Stock Price')\n",
    "plt.plot(predicted_stock_price, color='red', label='Predicted Google Stock Price')\n",
    "plt.title('Google Stock Price Prediction')\n",
    "plt.xlabel('Time')\n",
    "plt.ylabel('Stock Price')\n",
    "plt.legend()\n",
    "plt.show()"
   ]
  },
  {
   "cell_type": "code",
   "execution_count": null,
   "metadata": {},
   "outputs": [],
   "source": []
  }
 ],
 "metadata": {
  "colab": {
   "authorship_tag": "ABX9TyMF956N84LKP2opJ1oR5ZZO",
   "provenance": []
  },
  "kernelspec": {
   "display_name": "Python 3",
   "name": "python3"
  },
  "language_info": {
   "codemirror_mode": {
    "name": "ipython",
    "version": 3
   },
   "file_extension": ".py",
   "mimetype": "text/x-python",
   "name": "python",
   "nbconvert_exporter": "python",
   "pygments_lexer": "ipython3",
   "version": "3.10.11"
  }
 },
 "nbformat": 4,
 "nbformat_minor": 0
}
